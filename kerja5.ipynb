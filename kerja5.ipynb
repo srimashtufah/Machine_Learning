{
 "cells": [
  {
   "cell_type": "code",
   "execution_count": 1,
   "metadata": {},
   "outputs": [
    {
     "name": "stdout",
     "output_type": "stream",
     "text": [
      "(21, 5) (4, 5) (5, 5)\n"
     ]
    }
   ],
   "source": [
    "import pandas as pd\n",
    "from sklearn.model_selection import train_test_split\n",
    "\n",
    "df = pd.read_csv(\"processed_kelulusan.csv\")\n",
    "X = df.drop(\"Lulus\", axis=1)\n",
    "y = df[\"Lulus\"]\n",
    "\n",
    "X_train, X_temp, y_train, y_temp = train_test_split(\n",
    "    X, y, test_size=0.3, stratify=y, random_state=42)\n",
    "X_val, X_test, y_val, y_test = train_test_split(\n",
    "    X_temp, y_temp, test_size=0.5, stratify=y_temp, random_state=42)\n",
    "\n",
    "print(X_train.shape, X_val.shape, X_test.shape)"
   ]
  },
  {
   "cell_type": "code",
   "execution_count": null,
   "metadata": {},
   "outputs": [],
   "source": [
    "from sklearn.pipeline import Pipeline\n",
    "from sklearn.compose import ColumnTransformer\n",
    "from sklearn.preprocessing import StandardScaler\n",
    "from sklearn.impute import SimpleImputer\n",
    "from sklearn.linear_model import LogisticRegression\n",
    "from sklearn.metrics import f1_score, classification_report\n",
    "\n",
    "num_cols = X_train.select_dtypes(include=\"number\").columns\n",
    "\n",
    "pre = ColumnTransformer([\n",
    "    (\"num\", Pipeline([(\"imp\", SimpleImputer(strategy=\"median\")),\n",
    "                      (\"sc\", StandardScaler())]), num_cols),\n",
    "], remainder=\"drop\")\n",
    "\n",
    "logreg = LogisticRegression(max_iter=1000, class_weight=\"balanced\", random_state=42)\n",
    "pipe_lr = Pipeline([(\"pre\", pre), (\"clf\", logreg)])\n",
    "\n",
    "pipe_lr.fit(X_train, y_train)\n",
    "y_val_pred = pipe_lr.predict(X_val)\n",
    "print(\"Baseline (LogReg) F1(val):\", f1_score(y_val, y_val_pred, average=\"macro\"))\n",
    "print(classification_report(y_val, y_val_pred, digits=3))"
   ]
  },
  {
   "cell_type": "code",
   "execution_count": null,
   "metadata": {},
   "outputs": [],
   "source": [
    "from sklearn.ensemble import RandomForestClassifier\n",
    "\n",
    "rf = RandomForestClassifier(\n",
    "    n_estimators=300, max_features=\"sqrt\", class_weight=\"balanced\", random_state=42\n",
    ")\n",
    "pipe_rf = Pipeline([(\"pre\", pre), (\"clf\", rf)])\n",
    "\n",
    "pipe_rf.fit(X_train, y_train)\n",
    "y_val_rf = pipe_rf.predict(X_val)\n",
    "print(\"RandomForest F1(val):\", f1_score(y_val, y_val_rf, average=\"macro\"))"
   ]
  },
  {
   "cell_type": "code",
   "execution_count": null,
   "metadata": {},
   "outputs": [],
   "source": [
    "from sklearn.model_selection import StratifiedKFold, GridSearchCV\n",
    "\n",
    "skf = StratifiedKFold(n_splits=5, shuffle=True, random_state=42)\n",
    "param = {\n",
    "  \"clf__max_depth\": [None, 12, 20, 30],\n",
    "  \"clf__min_samples_split\": [2, 5, 10]\n",
    "}\n",
    "gs = GridSearchCV(pipe_rf, param_grid=param, cv=skf,\n",
    "                  scoring=\"f1_macro\", n_jobs=-1, verbose=1)\n",
    "gs.fit(X_train, y_train)\n",
    "print(\"Best params:\", gs.best_params_)\n",
    "print(\"Best CV F1:\", gs.best_score_)\n",
    "\n",
    "best_rf = gs.best_estimator_\n",
    "y_val_best = best_rf.predict(X_val)\n",
    "print(\"Best RF F1(val):\", f1_score(y_val, y_val_best, average=\"macro\"))"
   ]
  },
  {
   "cell_type": "code",
   "execution_count": null,
   "metadata": {},
   "outputs": [],
   "source": [
    "from sklearn.metrics import confusion_matrix, roc_auc_score, precision_recall_curve, roc_curve\n",
    "import matplotlib.pyplot as plt\n",
    "\n",
    "final_model = best_rf  # atau pipe_lr jika baseline lebih baik\n",
    "y_test_pred = final_model.predict(X_test)\n",
    "\n",
    "print(\"F1(test):\", f1_score(y_test, y_test_pred, average=\"macro\"))\n",
    "print(classification_report(y_test, y_test_pred, digits=3))\n",
    "print(\"Confusion matrix (test):\")\n",
    "print(confusion_matrix(y_test, y_test_pred))\n",
    "\n",
    "# ROC-AUC (jika ada predict_proba)\n",
    "if hasattr(final_model, \"predict_proba\"):\n",
    "    y_test_proba = final_model.predict_proba(X_test)[:,1]\n",
    "    try:\n",
    "        print(\"ROC-AUC(test):\", roc_auc_score(y_test, y_test_proba))\n",
    "    except:\n",
    "        pass\n",
    "    fpr, tpr, _ = roc_curve(y_test, y_test_proba)\n",
    "    plt.figure(); plt.plot(fpr, tpr); plt.xlabel(\"FPR\"); plt.ylabel(\"TPR\"); plt.title(\"ROC (test)\")\n",
    "    plt.tight_layout(); plt.savefig(\"roc_test.png\", dpi=120)"
   ]
  },
  {
   "cell_type": "code",
   "execution_count": null,
   "metadata": {},
   "outputs": [],
   "source": [
    "import joblib\n",
    "joblib.dump(final_model, \"model.pkl\")\n",
    "print(\"Model tersimpan ke model.pkl\")"
   ]
  },
  {
   "cell_type": "code",
   "execution_count": null,
   "metadata": {},
   "outputs": [],
   "source": [
    "from flask import Flask, request, jsonify\n",
    "import joblib, pandas as pd\n",
    "\n",
    "app = Flask(__name__)\n",
    "MODEL = joblib.load(\"model.pkl\")\n",
    "\n",
    "@app.route(\"/predict\", methods=[\"POST\"])\n",
    "def predict():\n",
    "    data = request.get_json(force=True)  # dict fitur\n",
    "    X = pd.DataFrame([data])\n",
    "    yhat = MODEL.predict(X)[0]\n",
    "    proba = None\n",
    "    if hasattr(MODEL, \"predict_proba\"):\n",
    "        proba = float(MODEL.predict_proba(X)[:,1][0])\n",
    "    return jsonify({\"prediction\": int(yhat), \"proba\": proba})\n",
    "\n",
    "if __name__ == \"__main__\":\n",
    "    app.run(port=5000)"
   ]
  }
 ],
 "metadata": {
  "kernelspec": {
   "display_name": "venv",
   "language": "python",
   "name": "python3"
  },
  "language_info": {
   "codemirror_mode": {
    "name": "ipython",
    "version": 3
   },
   "file_extension": ".py",
   "mimetype": "text/x-python",
   "name": "python",
   "nbconvert_exporter": "python",
   "pygments_lexer": "ipython3",
   "version": "3.10.11"
  },
  "orig_nbformat": 4
 },
 "nbformat": 4,
 "nbformat_minor": 2
}
