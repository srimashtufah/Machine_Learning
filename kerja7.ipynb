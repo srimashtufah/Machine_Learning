{
 "cells": [
  {
   "cell_type": "code",
   "execution_count": 1,
   "metadata": {},
   "outputs": [
    {
     "name": "stdout",
     "output_type": "stream",
     "text": [
      "(21, 5) (4, 5) (5, 5)\n"
     ]
    }
   ],
   "source": [
    "import pandas as pd\n",
    "from sklearn.model_selection import train_test_split\n",
    "from sklearn.preprocessing import StandardScaler\n",
    "\n",
    "df = pd.read_csv(\"processed_kelulusan.csv\")\n",
    "X = df.drop(\"Lulus\", axis=1)\n",
    "y = df[\"Lulus\"]\n",
    "\n",
    "sc = StandardScaler()\n",
    "Xs = sc.fit_transform(X)\n",
    "\n",
    "X_train, X_temp, y_train, y_temp = train_test_split(\n",
    "    Xs, y, test_size=0.3, stratify=y, random_state=42)\n",
    "X_val, X_test, y_val, y_test = train_test_split(\n",
    "    X_temp, y_temp, test_size=0.5, stratify=y_temp, random_state=42)\n",
    "\n",
    "print(X_train.shape, X_val.shape, X_test.shape)"
   ]
  },
  {
   "cell_type": "code",
   "execution_count": 2,
   "metadata": {},
   "outputs": [
    {
     "data": {
      "text/html": [
       "<pre style=\"white-space:pre;overflow-x:auto;line-height:normal;font-family:Menlo,'DejaVu Sans Mono',consolas,'Courier New',monospace\"><span style=\"font-weight: bold\">Model: \"sequential\"</span>\n",
       "</pre>\n"
      ],
      "text/plain": [
       "\u001b[1mModel: \"sequential\"\u001b[0m\n"
      ]
     },
     "metadata": {},
     "output_type": "display_data"
    },
    {
     "data": {
      "text/html": [
       "<pre style=\"white-space:pre;overflow-x:auto;line-height:normal;font-family:Menlo,'DejaVu Sans Mono',consolas,'Courier New',monospace\">┏━━━━━━━━━━━━━━━━━━━━━━━━━━━━━━━━━┳━━━━━━━━━━━━━━━━━━━━━━━━┳━━━━━━━━━━━━━━━┓\n",
       "┃<span style=\"font-weight: bold\"> Layer (type)                    </span>┃<span style=\"font-weight: bold\"> Output Shape           </span>┃<span style=\"font-weight: bold\">       Param # </span>┃\n",
       "┡━━━━━━━━━━━━━━━━━━━━━━━━━━━━━━━━━╇━━━━━━━━━━━━━━━━━━━━━━━━╇━━━━━━━━━━━━━━━┩\n",
       "│ dense (<span style=\"color: #0087ff; text-decoration-color: #0087ff\">Dense</span>)                   │ (<span style=\"color: #00d7ff; text-decoration-color: #00d7ff\">None</span>, <span style=\"color: #00af00; text-decoration-color: #00af00\">32</span>)             │           <span style=\"color: #00af00; text-decoration-color: #00af00\">192</span> │\n",
       "├─────────────────────────────────┼────────────────────────┼───────────────┤\n",
       "│ dropout (<span style=\"color: #0087ff; text-decoration-color: #0087ff\">Dropout</span>)               │ (<span style=\"color: #00d7ff; text-decoration-color: #00d7ff\">None</span>, <span style=\"color: #00af00; text-decoration-color: #00af00\">32</span>)             │             <span style=\"color: #00af00; text-decoration-color: #00af00\">0</span> │\n",
       "├─────────────────────────────────┼────────────────────────┼───────────────┤\n",
       "│ dense_1 (<span style=\"color: #0087ff; text-decoration-color: #0087ff\">Dense</span>)                 │ (<span style=\"color: #00d7ff; text-decoration-color: #00d7ff\">None</span>, <span style=\"color: #00af00; text-decoration-color: #00af00\">16</span>)             │           <span style=\"color: #00af00; text-decoration-color: #00af00\">528</span> │\n",
       "├─────────────────────────────────┼────────────────────────┼───────────────┤\n",
       "│ dense_2 (<span style=\"color: #0087ff; text-decoration-color: #0087ff\">Dense</span>)                 │ (<span style=\"color: #00d7ff; text-decoration-color: #00d7ff\">None</span>, <span style=\"color: #00af00; text-decoration-color: #00af00\">1</span>)              │            <span style=\"color: #00af00; text-decoration-color: #00af00\">17</span> │\n",
       "└─────────────────────────────────┴────────────────────────┴───────────────┘\n",
       "</pre>\n"
      ],
      "text/plain": [
       "┏━━━━━━━━━━━━━━━━━━━━━━━━━━━━━━━━━┳━━━━━━━━━━━━━━━━━━━━━━━━┳━━━━━━━━━━━━━━━┓\n",
       "┃\u001b[1m \u001b[0m\u001b[1mLayer (type)                   \u001b[0m\u001b[1m \u001b[0m┃\u001b[1m \u001b[0m\u001b[1mOutput Shape          \u001b[0m\u001b[1m \u001b[0m┃\u001b[1m \u001b[0m\u001b[1m      Param #\u001b[0m\u001b[1m \u001b[0m┃\n",
       "┡━━━━━━━━━━━━━━━━━━━━━━━━━━━━━━━━━╇━━━━━━━━━━━━━━━━━━━━━━━━╇━━━━━━━━━━━━━━━┩\n",
       "│ dense (\u001b[38;5;33mDense\u001b[0m)                   │ (\u001b[38;5;45mNone\u001b[0m, \u001b[38;5;34m32\u001b[0m)             │           \u001b[38;5;34m192\u001b[0m │\n",
       "├─────────────────────────────────┼────────────────────────┼───────────────┤\n",
       "│ dropout (\u001b[38;5;33mDropout\u001b[0m)               │ (\u001b[38;5;45mNone\u001b[0m, \u001b[38;5;34m32\u001b[0m)             │             \u001b[38;5;34m0\u001b[0m │\n",
       "├─────────────────────────────────┼────────────────────────┼───────────────┤\n",
       "│ dense_1 (\u001b[38;5;33mDense\u001b[0m)                 │ (\u001b[38;5;45mNone\u001b[0m, \u001b[38;5;34m16\u001b[0m)             │           \u001b[38;5;34m528\u001b[0m │\n",
       "├─────────────────────────────────┼────────────────────────┼───────────────┤\n",
       "│ dense_2 (\u001b[38;5;33mDense\u001b[0m)                 │ (\u001b[38;5;45mNone\u001b[0m, \u001b[38;5;34m1\u001b[0m)              │            \u001b[38;5;34m17\u001b[0m │\n",
       "└─────────────────────────────────┴────────────────────────┴───────────────┘\n"
      ]
     },
     "metadata": {},
     "output_type": "display_data"
    },
    {
     "data": {
      "text/html": [
       "<pre style=\"white-space:pre;overflow-x:auto;line-height:normal;font-family:Menlo,'DejaVu Sans Mono',consolas,'Courier New',monospace\"><span style=\"font-weight: bold\"> Total params: </span><span style=\"color: #00af00; text-decoration-color: #00af00\">737</span> (2.88 KB)\n",
       "</pre>\n"
      ],
      "text/plain": [
       "\u001b[1m Total params: \u001b[0m\u001b[38;5;34m737\u001b[0m (2.88 KB)\n"
      ]
     },
     "metadata": {},
     "output_type": "display_data"
    },
    {
     "data": {
      "text/html": [
       "<pre style=\"white-space:pre;overflow-x:auto;line-height:normal;font-family:Menlo,'DejaVu Sans Mono',consolas,'Courier New',monospace\"><span style=\"font-weight: bold\"> Trainable params: </span><span style=\"color: #00af00; text-decoration-color: #00af00\">737</span> (2.88 KB)\n",
       "</pre>\n"
      ],
      "text/plain": [
       "\u001b[1m Trainable params: \u001b[0m\u001b[38;5;34m737\u001b[0m (2.88 KB)\n"
      ]
     },
     "metadata": {},
     "output_type": "display_data"
    },
    {
     "data": {
      "text/html": [
       "<pre style=\"white-space:pre;overflow-x:auto;line-height:normal;font-family:Menlo,'DejaVu Sans Mono',consolas,'Courier New',monospace\"><span style=\"font-weight: bold\"> Non-trainable params: </span><span style=\"color: #00af00; text-decoration-color: #00af00\">0</span> (0.00 B)\n",
       "</pre>\n"
      ],
      "text/plain": [
       "\u001b[1m Non-trainable params: \u001b[0m\u001b[38;5;34m0\u001b[0m (0.00 B)\n"
      ]
     },
     "metadata": {},
     "output_type": "display_data"
    }
   ],
   "source": [
    "import tensorflow as tf\n",
    "from tensorflow import keras\n",
    "from tensorflow.keras import layers\n",
    "\n",
    "model = keras.Sequential([\n",
    "    layers.Input(shape=(X_train.shape[1],)),\n",
    "    layers.Dense(32, activation=\"relu\"),\n",
    "    layers.Dropout(0.3),\n",
    "    layers.Dense(16, activation=\"relu\"),\n",
    "    layers.Dense(1, activation=\"sigmoid\")  # klasifikasi biner\n",
    "])\n",
    "\n",
    "model.compile(optimizer=keras.optimizers.Adam(1e-3),\n",
    "              loss=\"binary_crossentropy\",\n",
    "              metrics=[\"accuracy\",\"AUC\"])\n",
    "model.summary()"
   ]
  },
  {
   "cell_type": "code",
   "execution_count": 3,
   "metadata": {},
   "outputs": [
    {
     "name": "stdout",
     "output_type": "stream",
     "text": [
      "Epoch 1/100\n",
      "\u001b[1m1/1\u001b[0m \u001b[32m━━━━━━━━━━━━━━━━━━━━\u001b[0m\u001b[37m\u001b[0m \u001b[1m3s\u001b[0m 3s/step - AUC: 0.7045 - accuracy: 0.4762 - loss: 0.6833 - val_AUC: 1.0000 - val_accuracy: 0.5000 - val_loss: 0.6421\n",
      "Epoch 2/100\n",
      "\u001b[1m1/1\u001b[0m \u001b[32m━━━━━━━━━━━━━━━━━━━━\u001b[0m\u001b[37m\u001b[0m \u001b[1m0s\u001b[0m 205ms/step - AUC: 0.5818 - accuracy: 0.4762 - loss: 0.7060 - val_AUC: 1.0000 - val_accuracy: 0.5000 - val_loss: 0.6303\n",
      "Epoch 3/100\n",
      "\u001b[1m1/1\u001b[0m \u001b[32m━━━━━━━━━━━━━━━━━━━━\u001b[0m\u001b[37m\u001b[0m \u001b[1m0s\u001b[0m 222ms/step - AUC: 0.7591 - accuracy: 0.4762 - loss: 0.6612 - val_AUC: 1.0000 - val_accuracy: 0.5000 - val_loss: 0.6190\n",
      "Epoch 4/100\n",
      "\u001b[1m1/1\u001b[0m \u001b[32m━━━━━━━━━━━━━━━━━━━━\u001b[0m\u001b[37m\u001b[0m \u001b[1m0s\u001b[0m 213ms/step - AUC: 0.7955 - accuracy: 0.4762 - loss: 0.6600 - val_AUC: 1.0000 - val_accuracy: 0.5000 - val_loss: 0.6079\n",
      "Epoch 5/100\n",
      "\u001b[1m1/1\u001b[0m \u001b[32m━━━━━━━━━━━━━━━━━━━━\u001b[0m\u001b[37m\u001b[0m \u001b[1m0s\u001b[0m 203ms/step - AUC: 0.8409 - accuracy: 0.4762 - loss: 0.6500 - val_AUC: 1.0000 - val_accuracy: 0.5000 - val_loss: 0.5970\n",
      "Epoch 6/100\n",
      "\u001b[1m1/1\u001b[0m \u001b[32m━━━━━━━━━━━━━━━━━━━━\u001b[0m\u001b[37m\u001b[0m \u001b[1m0s\u001b[0m 207ms/step - AUC: 0.8091 - accuracy: 0.4762 - loss: 0.6420 - val_AUC: 1.0000 - val_accuracy: 0.5000 - val_loss: 0.5862\n",
      "Epoch 7/100\n",
      "\u001b[1m1/1\u001b[0m \u001b[32m━━━━━━━━━━━━━━━━━━━━\u001b[0m\u001b[37m\u001b[0m \u001b[1m0s\u001b[0m 209ms/step - AUC: 0.8682 - accuracy: 0.5238 - loss: 0.6305 - val_AUC: 1.0000 - val_accuracy: 0.5000 - val_loss: 0.5760\n",
      "Epoch 8/100\n",
      "\u001b[1m1/1\u001b[0m \u001b[32m━━━━━━━━━━━━━━━━━━━━\u001b[0m\u001b[37m\u001b[0m \u001b[1m0s\u001b[0m 218ms/step - AUC: 0.9545 - accuracy: 0.4762 - loss: 0.6026 - val_AUC: 1.0000 - val_accuracy: 0.5000 - val_loss: 0.5659\n",
      "Epoch 9/100\n",
      "\u001b[1m1/1\u001b[0m \u001b[32m━━━━━━━━━━━━━━━━━━━━\u001b[0m\u001b[37m\u001b[0m \u001b[1m0s\u001b[0m 204ms/step - AUC: 0.9682 - accuracy: 0.5238 - loss: 0.5780 - val_AUC: 1.0000 - val_accuracy: 0.5000 - val_loss: 0.5560\n",
      "Epoch 10/100\n",
      "\u001b[1m1/1\u001b[0m \u001b[32m━━━━━━━━━━━━━━━━━━━━\u001b[0m\u001b[37m\u001b[0m \u001b[1m0s\u001b[0m 210ms/step - AUC: 1.0000 - accuracy: 0.6667 - loss: 0.5752 - val_AUC: 1.0000 - val_accuracy: 0.5000 - val_loss: 0.5464\n",
      "Epoch 11/100\n",
      "\u001b[1m1/1\u001b[0m \u001b[32m━━━━━━━━━━━━━━━━━━━━\u001b[0m\u001b[37m\u001b[0m \u001b[1m0s\u001b[0m 286ms/step - AUC: 0.9682 - accuracy: 0.7143 - loss: 0.5755 - val_AUC: 1.0000 - val_accuracy: 0.7500 - val_loss: 0.5369\n",
      "Epoch 12/100\n",
      "\u001b[1m1/1\u001b[0m \u001b[32m━━━━━━━━━━━━━━━━━━━━\u001b[0m\u001b[37m\u001b[0m \u001b[1m0s\u001b[0m 211ms/step - AUC: 0.9455 - accuracy: 0.6190 - loss: 0.5856 - val_AUC: 1.0000 - val_accuracy: 0.7500 - val_loss: 0.5280\n",
      "Epoch 13/100\n",
      "\u001b[1m1/1\u001b[0m \u001b[32m━━━━━━━━━━━━━━━━━━━━\u001b[0m\u001b[37m\u001b[0m \u001b[1m0s\u001b[0m 298ms/step - AUC: 0.9545 - accuracy: 0.5238 - loss: 0.5848 - val_AUC: 1.0000 - val_accuracy: 0.7500 - val_loss: 0.5199\n",
      "Epoch 14/100\n",
      "\u001b[1m1/1\u001b[0m \u001b[32m━━━━━━━━━━━━━━━━━━━━\u001b[0m\u001b[37m\u001b[0m \u001b[1m0s\u001b[0m 222ms/step - AUC: 0.9455 - accuracy: 0.6190 - loss: 0.5967 - val_AUC: 1.0000 - val_accuracy: 0.7500 - val_loss: 0.5124\n",
      "Epoch 15/100\n",
      "\u001b[1m1/1\u001b[0m \u001b[32m━━━━━━━━━━━━━━━━━━━━\u001b[0m\u001b[37m\u001b[0m \u001b[1m0s\u001b[0m 197ms/step - AUC: 1.0000 - accuracy: 0.7143 - loss: 0.5423 - val_AUC: 1.0000 - val_accuracy: 0.7500 - val_loss: 0.5051\n",
      "Epoch 16/100\n",
      "\u001b[1m1/1\u001b[0m \u001b[32m━━━━━━━━━━━━━━━━━━━━\u001b[0m\u001b[37m\u001b[0m \u001b[1m0s\u001b[0m 213ms/step - AUC: 0.9909 - accuracy: 0.7143 - loss: 0.5547 - val_AUC: 1.0000 - val_accuracy: 1.0000 - val_loss: 0.4979\n",
      "Epoch 17/100\n",
      "\u001b[1m1/1\u001b[0m \u001b[32m━━━━━━━━━━━━━━━━━━━━\u001b[0m\u001b[37m\u001b[0m \u001b[1m0s\u001b[0m 203ms/step - AUC: 0.9955 - accuracy: 0.6667 - loss: 0.5446 - val_AUC: 1.0000 - val_accuracy: 1.0000 - val_loss: 0.4907\n",
      "Epoch 18/100\n",
      "\u001b[1m1/1\u001b[0m \u001b[32m━━━━━━━━━━━━━━━━━━━━\u001b[0m\u001b[37m\u001b[0m \u001b[1m0s\u001b[0m 196ms/step - AUC: 0.9955 - accuracy: 0.7619 - loss: 0.5440 - val_AUC: 1.0000 - val_accuracy: 1.0000 - val_loss: 0.4836\n",
      "Epoch 19/100\n",
      "\u001b[1m1/1\u001b[0m \u001b[32m━━━━━━━━━━━━━━━━━━━━\u001b[0m\u001b[37m\u001b[0m \u001b[1m0s\u001b[0m 278ms/step - AUC: 1.0000 - accuracy: 0.6667 - loss: 0.5470 - val_AUC: 1.0000 - val_accuracy: 1.0000 - val_loss: 0.4767\n",
      "Epoch 20/100\n",
      "\u001b[1m1/1\u001b[0m \u001b[32m━━━━━━━━━━━━━━━━━━━━\u001b[0m\u001b[37m\u001b[0m \u001b[1m0s\u001b[0m 212ms/step - AUC: 0.9727 - accuracy: 0.7143 - loss: 0.5409 - val_AUC: 1.0000 - val_accuracy: 1.0000 - val_loss: 0.4702\n",
      "Epoch 21/100\n",
      "\u001b[1m1/1\u001b[0m \u001b[32m━━━━━━━━━━━━━━━━━━━━\u001b[0m\u001b[37m\u001b[0m \u001b[1m0s\u001b[0m 208ms/step - AUC: 1.0000 - accuracy: 0.8095 - loss: 0.5269 - val_AUC: 1.0000 - val_accuracy: 1.0000 - val_loss: 0.4638\n",
      "Epoch 22/100\n",
      "\u001b[1m1/1\u001b[0m \u001b[32m━━━━━━━━━━━━━━━━━━━━\u001b[0m\u001b[37m\u001b[0m \u001b[1m0s\u001b[0m 199ms/step - AUC: 1.0000 - accuracy: 0.8095 - loss: 0.5155 - val_AUC: 1.0000 - val_accuracy: 1.0000 - val_loss: 0.4575\n",
      "Epoch 23/100\n",
      "\u001b[1m1/1\u001b[0m \u001b[32m━━━━━━━━━━━━━━━━━━━━\u001b[0m\u001b[37m\u001b[0m \u001b[1m0s\u001b[0m 203ms/step - AUC: 0.9955 - accuracy: 0.7619 - loss: 0.5371 - val_AUC: 1.0000 - val_accuracy: 1.0000 - val_loss: 0.4512\n",
      "Epoch 24/100\n",
      "\u001b[1m1/1\u001b[0m \u001b[32m━━━━━━━━━━━━━━━━━━━━\u001b[0m\u001b[37m\u001b[0m \u001b[1m0s\u001b[0m 201ms/step - AUC: 0.9909 - accuracy: 0.9048 - loss: 0.5122 - val_AUC: 1.0000 - val_accuracy: 1.0000 - val_loss: 0.4454\n",
      "Epoch 25/100\n",
      "\u001b[1m1/1\u001b[0m \u001b[32m━━━━━━━━━━━━━━━━━━━━\u001b[0m\u001b[37m\u001b[0m \u001b[1m0s\u001b[0m 214ms/step - AUC: 1.0000 - accuracy: 0.9524 - loss: 0.5072 - val_AUC: 1.0000 - val_accuracy: 1.0000 - val_loss: 0.4397\n",
      "Epoch 26/100\n",
      "\u001b[1m1/1\u001b[0m \u001b[32m━━━━━━━━━━━━━━━━━━━━\u001b[0m\u001b[37m\u001b[0m \u001b[1m0s\u001b[0m 212ms/step - AUC: 1.0000 - accuracy: 0.8571 - loss: 0.5219 - val_AUC: 1.0000 - val_accuracy: 1.0000 - val_loss: 0.4341\n",
      "Epoch 27/100\n",
      "\u001b[1m1/1\u001b[0m \u001b[32m━━━━━━━━━━━━━━━━━━━━\u001b[0m\u001b[37m\u001b[0m \u001b[1m0s\u001b[0m 215ms/step - AUC: 1.0000 - accuracy: 0.9524 - loss: 0.4808 - val_AUC: 1.0000 - val_accuracy: 1.0000 - val_loss: 0.4286\n",
      "Epoch 28/100\n",
      "\u001b[1m1/1\u001b[0m \u001b[32m━━━━━━━━━━━━━━━━━━━━\u001b[0m\u001b[37m\u001b[0m \u001b[1m0s\u001b[0m 239ms/step - AUC: 1.0000 - accuracy: 0.9524 - loss: 0.4852 - val_AUC: 1.0000 - val_accuracy: 1.0000 - val_loss: 0.4231\n",
      "Epoch 29/100\n",
      "\u001b[1m1/1\u001b[0m \u001b[32m━━━━━━━━━━━━━━━━━━━━\u001b[0m\u001b[37m\u001b[0m \u001b[1m0s\u001b[0m 210ms/step - AUC: 1.0000 - accuracy: 0.8571 - loss: 0.4961 - val_AUC: 1.0000 - val_accuracy: 1.0000 - val_loss: 0.4178\n",
      "Epoch 30/100\n",
      "\u001b[1m1/1\u001b[0m \u001b[32m━━━━━━━━━━━━━━━━━━━━\u001b[0m\u001b[37m\u001b[0m \u001b[1m0s\u001b[0m 196ms/step - AUC: 1.0000 - accuracy: 0.9048 - loss: 0.4672 - val_AUC: 1.0000 - val_accuracy: 1.0000 - val_loss: 0.4124\n",
      "Epoch 31/100\n",
      "\u001b[1m1/1\u001b[0m \u001b[32m━━━━━━━━━━━━━━━━━━━━\u001b[0m\u001b[37m\u001b[0m \u001b[1m0s\u001b[0m 213ms/step - AUC: 1.0000 - accuracy: 0.9524 - loss: 0.4603 - val_AUC: 1.0000 - val_accuracy: 1.0000 - val_loss: 0.4072\n",
      "Epoch 32/100\n",
      "\u001b[1m1/1\u001b[0m \u001b[32m━━━━━━━━━━━━━━━━━━━━\u001b[0m\u001b[37m\u001b[0m \u001b[1m0s\u001b[0m 203ms/step - AUC: 1.0000 - accuracy: 0.9048 - loss: 0.4485 - val_AUC: 1.0000 - val_accuracy: 1.0000 - val_loss: 0.4020\n",
      "Epoch 33/100\n",
      "\u001b[1m1/1\u001b[0m \u001b[32m━━━━━━━━━━━━━━━━━━━━\u001b[0m\u001b[37m\u001b[0m \u001b[1m0s\u001b[0m 184ms/step - AUC: 1.0000 - accuracy: 0.8571 - loss: 0.4647 - val_AUC: 1.0000 - val_accuracy: 1.0000 - val_loss: 0.3969\n",
      "Epoch 34/100\n",
      "\u001b[1m1/1\u001b[0m \u001b[32m━━━━━━━━━━━━━━━━━━━━\u001b[0m\u001b[37m\u001b[0m \u001b[1m0s\u001b[0m 199ms/step - AUC: 1.0000 - accuracy: 1.0000 - loss: 0.4419 - val_AUC: 1.0000 - val_accuracy: 1.0000 - val_loss: 0.3919\n",
      "Epoch 35/100\n",
      "\u001b[1m1/1\u001b[0m \u001b[32m━━━━━━━━━━━━━━━━━━━━\u001b[0m\u001b[37m\u001b[0m \u001b[1m0s\u001b[0m 219ms/step - AUC: 1.0000 - accuracy: 1.0000 - loss: 0.4379 - val_AUC: 1.0000 - val_accuracy: 1.0000 - val_loss: 0.3868\n",
      "Epoch 36/100\n",
      "\u001b[1m1/1\u001b[0m \u001b[32m━━━━━━━━━━━━━━━━━━━━\u001b[0m\u001b[37m\u001b[0m \u001b[1m0s\u001b[0m 205ms/step - AUC: 1.0000 - accuracy: 1.0000 - loss: 0.4050 - val_AUC: 1.0000 - val_accuracy: 1.0000 - val_loss: 0.3813\n",
      "Epoch 37/100\n",
      "\u001b[1m1/1\u001b[0m \u001b[32m━━━━━━━━━━━━━━━━━━━━\u001b[0m\u001b[37m\u001b[0m \u001b[1m0s\u001b[0m 212ms/step - AUC: 1.0000 - accuracy: 1.0000 - loss: 0.4397 - val_AUC: 1.0000 - val_accuracy: 1.0000 - val_loss: 0.3758\n",
      "Epoch 38/100\n",
      "\u001b[1m1/1\u001b[0m \u001b[32m━━━━━━━━━━━━━━━━━━━━\u001b[0m\u001b[37m\u001b[0m \u001b[1m0s\u001b[0m 329ms/step - AUC: 1.0000 - accuracy: 1.0000 - loss: 0.4354 - val_AUC: 1.0000 - val_accuracy: 1.0000 - val_loss: 0.3705\n",
      "Epoch 39/100\n",
      "\u001b[1m1/1\u001b[0m \u001b[32m━━━━━━━━━━━━━━━━━━━━\u001b[0m\u001b[37m\u001b[0m \u001b[1m0s\u001b[0m 221ms/step - AUC: 1.0000 - accuracy: 1.0000 - loss: 0.4143 - val_AUC: 1.0000 - val_accuracy: 1.0000 - val_loss: 0.3652\n",
      "Epoch 40/100\n",
      "\u001b[1m1/1\u001b[0m \u001b[32m━━━━━━━━━━━━━━━━━━━━\u001b[0m\u001b[37m\u001b[0m \u001b[1m0s\u001b[0m 202ms/step - AUC: 1.0000 - accuracy: 1.0000 - loss: 0.4256 - val_AUC: 1.0000 - val_accuracy: 1.0000 - val_loss: 0.3596\n",
      "Epoch 41/100\n",
      "\u001b[1m1/1\u001b[0m \u001b[32m━━━━━━━━━━━━━━━━━━━━\u001b[0m\u001b[37m\u001b[0m \u001b[1m0s\u001b[0m 288ms/step - AUC: 1.0000 - accuracy: 0.9524 - loss: 0.4034 - val_AUC: 1.0000 - val_accuracy: 1.0000 - val_loss: 0.3541\n",
      "Epoch 42/100\n",
      "\u001b[1m1/1\u001b[0m \u001b[32m━━━━━━━━━━━━━━━━━━━━\u001b[0m\u001b[37m\u001b[0m \u001b[1m0s\u001b[0m 209ms/step - AUC: 1.0000 - accuracy: 1.0000 - loss: 0.3957 - val_AUC: 1.0000 - val_accuracy: 1.0000 - val_loss: 0.3485\n",
      "Epoch 43/100\n",
      "\u001b[1m1/1\u001b[0m \u001b[32m━━━━━━━━━━━━━━━━━━━━\u001b[0m\u001b[37m\u001b[0m \u001b[1m0s\u001b[0m 209ms/step - AUC: 1.0000 - accuracy: 1.0000 - loss: 0.3730 - val_AUC: 1.0000 - val_accuracy: 1.0000 - val_loss: 0.3431\n",
      "Epoch 44/100\n",
      "\u001b[1m1/1\u001b[0m \u001b[32m━━━━━━━━━━━━━━━━━━━━\u001b[0m\u001b[37m\u001b[0m \u001b[1m0s\u001b[0m 200ms/step - AUC: 1.0000 - accuracy: 0.9524 - loss: 0.3881 - val_AUC: 1.0000 - val_accuracy: 1.0000 - val_loss: 0.3378\n",
      "Epoch 45/100\n",
      "\u001b[1m1/1\u001b[0m \u001b[32m━━━━━━━━━━━━━━━━━━━━\u001b[0m\u001b[37m\u001b[0m \u001b[1m0s\u001b[0m 215ms/step - AUC: 1.0000 - accuracy: 1.0000 - loss: 0.3869 - val_AUC: 1.0000 - val_accuracy: 1.0000 - val_loss: 0.3325\n",
      "Epoch 46/100\n",
      "\u001b[1m1/1\u001b[0m \u001b[32m━━━━━━━━━━━━━━━━━━━━\u001b[0m\u001b[37m\u001b[0m \u001b[1m0s\u001b[0m 208ms/step - AUC: 1.0000 - accuracy: 0.9524 - loss: 0.3862 - val_AUC: 1.0000 - val_accuracy: 1.0000 - val_loss: 0.3273\n",
      "Epoch 47/100\n",
      "\u001b[1m1/1\u001b[0m \u001b[32m━━━━━━━━━━━━━━━━━━━━\u001b[0m\u001b[37m\u001b[0m \u001b[1m0s\u001b[0m 195ms/step - AUC: 1.0000 - accuracy: 1.0000 - loss: 0.3678 - val_AUC: 1.0000 - val_accuracy: 1.0000 - val_loss: 0.3222\n",
      "Epoch 48/100\n",
      "\u001b[1m1/1\u001b[0m \u001b[32m━━━━━━━━━━━━━━━━━━━━\u001b[0m\u001b[37m\u001b[0m \u001b[1m0s\u001b[0m 205ms/step - AUC: 1.0000 - accuracy: 0.9524 - loss: 0.3772 - val_AUC: 1.0000 - val_accuracy: 1.0000 - val_loss: 0.3170\n",
      "Epoch 49/100\n",
      "\u001b[1m1/1\u001b[0m \u001b[32m━━━━━━━━━━━━━━━━━━━━\u001b[0m\u001b[37m\u001b[0m \u001b[1m0s\u001b[0m 197ms/step - AUC: 1.0000 - accuracy: 1.0000 - loss: 0.3539 - val_AUC: 1.0000 - val_accuracy: 1.0000 - val_loss: 0.3118\n",
      "Epoch 50/100\n",
      "\u001b[1m1/1\u001b[0m \u001b[32m━━━━━━━━━━━━━━━━━━━━\u001b[0m\u001b[37m\u001b[0m \u001b[1m0s\u001b[0m 221ms/step - AUC: 1.0000 - accuracy: 1.0000 - loss: 0.3517 - val_AUC: 1.0000 - val_accuracy: 1.0000 - val_loss: 0.3066\n",
      "Epoch 51/100\n",
      "\u001b[1m1/1\u001b[0m \u001b[32m━━━━━━━━━━━━━━━━━━━━\u001b[0m\u001b[37m\u001b[0m \u001b[1m0s\u001b[0m 241ms/step - AUC: 1.0000 - accuracy: 1.0000 - loss: 0.3600 - val_AUC: 1.0000 - val_accuracy: 1.0000 - val_loss: 0.3014\n",
      "Epoch 52/100\n",
      "\u001b[1m1/1\u001b[0m \u001b[32m━━━━━━━━━━━━━━━━━━━━\u001b[0m\u001b[37m\u001b[0m \u001b[1m0s\u001b[0m 204ms/step - AUC: 1.0000 - accuracy: 1.0000 - loss: 0.3449 - val_AUC: 1.0000 - val_accuracy: 1.0000 - val_loss: 0.2962\n",
      "Epoch 53/100\n",
      "\u001b[1m1/1\u001b[0m \u001b[32m━━━━━━━━━━━━━━━━━━━━\u001b[0m\u001b[37m\u001b[0m \u001b[1m0s\u001b[0m 202ms/step - AUC: 1.0000 - accuracy: 1.0000 - loss: 0.3330 - val_AUC: 1.0000 - val_accuracy: 1.0000 - val_loss: 0.2911\n",
      "Epoch 54/100\n",
      "\u001b[1m1/1\u001b[0m \u001b[32m━━━━━━━━━━━━━━━━━━━━\u001b[0m\u001b[37m\u001b[0m \u001b[1m0s\u001b[0m 200ms/step - AUC: 1.0000 - accuracy: 0.9524 - loss: 0.3586 - val_AUC: 1.0000 - val_accuracy: 1.0000 - val_loss: 0.2860\n",
      "Epoch 55/100\n",
      "\u001b[1m1/1\u001b[0m \u001b[32m━━━━━━━━━━━━━━━━━━━━\u001b[0m\u001b[37m\u001b[0m \u001b[1m0s\u001b[0m 197ms/step - AUC: 1.0000 - accuracy: 1.0000 - loss: 0.3224 - val_AUC: 1.0000 - val_accuracy: 1.0000 - val_loss: 0.2810\n",
      "Epoch 56/100\n",
      "\u001b[1m1/1\u001b[0m \u001b[32m━━━━━━━━━━━━━━━━━━━━\u001b[0m\u001b[37m\u001b[0m \u001b[1m0s\u001b[0m 275ms/step - AUC: 1.0000 - accuracy: 1.0000 - loss: 0.3211 - val_AUC: 1.0000 - val_accuracy: 1.0000 - val_loss: 0.2760\n",
      "Epoch 57/100\n",
      "\u001b[1m1/1\u001b[0m \u001b[32m━━━━━━━━━━━━━━━━━━━━\u001b[0m\u001b[37m\u001b[0m \u001b[1m0s\u001b[0m 207ms/step - AUC: 1.0000 - accuracy: 1.0000 - loss: 0.3309 - val_AUC: 1.0000 - val_accuracy: 1.0000 - val_loss: 0.2711\n",
      "Epoch 58/100\n",
      "\u001b[1m1/1\u001b[0m \u001b[32m━━━━━━━━━━━━━━━━━━━━\u001b[0m\u001b[37m\u001b[0m \u001b[1m0s\u001b[0m 198ms/step - AUC: 1.0000 - accuracy: 1.0000 - loss: 0.3100 - val_AUC: 1.0000 - val_accuracy: 1.0000 - val_loss: 0.2662\n",
      "Epoch 59/100\n",
      "\u001b[1m1/1\u001b[0m \u001b[32m━━━━━━━━━━━━━━━━━━━━\u001b[0m\u001b[37m\u001b[0m \u001b[1m0s\u001b[0m 210ms/step - AUC: 1.0000 - accuracy: 1.0000 - loss: 0.3101 - val_AUC: 1.0000 - val_accuracy: 1.0000 - val_loss: 0.2613\n",
      "Epoch 60/100\n",
      "\u001b[1m1/1\u001b[0m \u001b[32m━━━━━━━━━━━━━━━━━━━━\u001b[0m\u001b[37m\u001b[0m \u001b[1m0s\u001b[0m 225ms/step - AUC: 1.0000 - accuracy: 1.0000 - loss: 0.3310 - val_AUC: 1.0000 - val_accuracy: 1.0000 - val_loss: 0.2566\n",
      "Epoch 61/100\n",
      "\u001b[1m1/1\u001b[0m \u001b[32m━━━━━━━━━━━━━━━━━━━━\u001b[0m\u001b[37m\u001b[0m \u001b[1m0s\u001b[0m 210ms/step - AUC: 1.0000 - accuracy: 1.0000 - loss: 0.2714 - val_AUC: 1.0000 - val_accuracy: 1.0000 - val_loss: 0.2519\n",
      "Epoch 62/100\n",
      "\u001b[1m1/1\u001b[0m \u001b[32m━━━━━━━━━━━━━━━━━━━━\u001b[0m\u001b[37m\u001b[0m \u001b[1m0s\u001b[0m 213ms/step - AUC: 1.0000 - accuracy: 1.0000 - loss: 0.2923 - val_AUC: 1.0000 - val_accuracy: 1.0000 - val_loss: 0.2472\n",
      "Epoch 63/100\n",
      "\u001b[1m1/1\u001b[0m \u001b[32m━━━━━━━━━━━━━━━━━━━━\u001b[0m\u001b[37m\u001b[0m \u001b[1m0s\u001b[0m 204ms/step - AUC: 1.0000 - accuracy: 1.0000 - loss: 0.2919 - val_AUC: 1.0000 - val_accuracy: 1.0000 - val_loss: 0.2426\n",
      "Epoch 64/100\n",
      "\u001b[1m1/1\u001b[0m \u001b[32m━━━━━━━━━━━━━━━━━━━━\u001b[0m\u001b[37m\u001b[0m \u001b[1m0s\u001b[0m 216ms/step - AUC: 1.0000 - accuracy: 1.0000 - loss: 0.2814 - val_AUC: 1.0000 - val_accuracy: 1.0000 - val_loss: 0.2381\n",
      "Epoch 65/100\n",
      "\u001b[1m1/1\u001b[0m \u001b[32m━━━━━━━━━━━━━━━━━━━━\u001b[0m\u001b[37m\u001b[0m \u001b[1m0s\u001b[0m 207ms/step - AUC: 1.0000 - accuracy: 1.0000 - loss: 0.2884 - val_AUC: 1.0000 - val_accuracy: 1.0000 - val_loss: 0.2336\n",
      "Epoch 66/100\n",
      "\u001b[1m1/1\u001b[0m \u001b[32m━━━━━━━━━━━━━━━━━━━━\u001b[0m\u001b[37m\u001b[0m \u001b[1m0s\u001b[0m 300ms/step - AUC: 1.0000 - accuracy: 1.0000 - loss: 0.2792 - val_AUC: 1.0000 - val_accuracy: 1.0000 - val_loss: 0.2292\n",
      "Epoch 67/100\n",
      "\u001b[1m1/1\u001b[0m \u001b[32m━━━━━━━━━━━━━━━━━━━━\u001b[0m\u001b[37m\u001b[0m \u001b[1m0s\u001b[0m 226ms/step - AUC: 1.0000 - accuracy: 1.0000 - loss: 0.2851 - val_AUC: 1.0000 - val_accuracy: 1.0000 - val_loss: 0.2248\n",
      "Epoch 68/100\n",
      "\u001b[1m1/1\u001b[0m \u001b[32m━━━━━━━━━━━━━━━━━━━━\u001b[0m\u001b[37m\u001b[0m \u001b[1m0s\u001b[0m 207ms/step - AUC: 1.0000 - accuracy: 1.0000 - loss: 0.2478 - val_AUC: 1.0000 - val_accuracy: 1.0000 - val_loss: 0.2206\n",
      "Epoch 69/100\n",
      "\u001b[1m1/1\u001b[0m \u001b[32m━━━━━━━━━━━━━━━━━━━━\u001b[0m\u001b[37m\u001b[0m \u001b[1m0s\u001b[0m 205ms/step - AUC: 1.0000 - accuracy: 1.0000 - loss: 0.2742 - val_AUC: 1.0000 - val_accuracy: 1.0000 - val_loss: 0.2163\n",
      "Epoch 70/100\n",
      "\u001b[1m1/1\u001b[0m \u001b[32m━━━━━━━━━━━━━━━━━━━━\u001b[0m\u001b[37m\u001b[0m \u001b[1m0s\u001b[0m 275ms/step - AUC: 1.0000 - accuracy: 1.0000 - loss: 0.2443 - val_AUC: 1.0000 - val_accuracy: 1.0000 - val_loss: 0.2122\n",
      "Epoch 71/100\n",
      "\u001b[1m1/1\u001b[0m \u001b[32m━━━━━━━━━━━━━━━━━━━━\u001b[0m\u001b[37m\u001b[0m \u001b[1m0s\u001b[0m 217ms/step - AUC: 1.0000 - accuracy: 1.0000 - loss: 0.2347 - val_AUC: 1.0000 - val_accuracy: 1.0000 - val_loss: 0.2080\n",
      "Epoch 72/100\n",
      "\u001b[1m1/1\u001b[0m \u001b[32m━━━━━━━━━━━━━━━━━━━━\u001b[0m\u001b[37m\u001b[0m \u001b[1m0s\u001b[0m 211ms/step - AUC: 1.0000 - accuracy: 1.0000 - loss: 0.2210 - val_AUC: 1.0000 - val_accuracy: 1.0000 - val_loss: 0.2040\n",
      "Epoch 73/100\n",
      "\u001b[1m1/1\u001b[0m \u001b[32m━━━━━━━━━━━━━━━━━━━━\u001b[0m\u001b[37m\u001b[0m \u001b[1m0s\u001b[0m 220ms/step - AUC: 1.0000 - accuracy: 1.0000 - loss: 0.2294 - val_AUC: 1.0000 - val_accuracy: 1.0000 - val_loss: 0.1999\n",
      "Epoch 74/100\n",
      "\u001b[1m1/1\u001b[0m \u001b[32m━━━━━━━━━━━━━━━━━━━━\u001b[0m\u001b[37m\u001b[0m \u001b[1m0s\u001b[0m 218ms/step - AUC: 1.0000 - accuracy: 1.0000 - loss: 0.2344 - val_AUC: 1.0000 - val_accuracy: 1.0000 - val_loss: 0.1959\n",
      "Epoch 75/100\n",
      "\u001b[1m1/1\u001b[0m \u001b[32m━━━━━━━━━━━━━━━━━━━━\u001b[0m\u001b[37m\u001b[0m \u001b[1m0s\u001b[0m 231ms/step - AUC: 1.0000 - accuracy: 1.0000 - loss: 0.2453 - val_AUC: 1.0000 - val_accuracy: 1.0000 - val_loss: 0.1919\n",
      "Epoch 76/100\n",
      "\u001b[1m1/1\u001b[0m \u001b[32m━━━━━━━━━━━━━━━━━━━━\u001b[0m\u001b[37m\u001b[0m \u001b[1m0s\u001b[0m 219ms/step - AUC: 1.0000 - accuracy: 1.0000 - loss: 0.2246 - val_AUC: 1.0000 - val_accuracy: 1.0000 - val_loss: 0.1879\n",
      "Epoch 77/100\n",
      "\u001b[1m1/1\u001b[0m \u001b[32m━━━━━━━━━━━━━━━━━━━━\u001b[0m\u001b[37m\u001b[0m \u001b[1m0s\u001b[0m 199ms/step - AUC: 1.0000 - accuracy: 1.0000 - loss: 0.2064 - val_AUC: 1.0000 - val_accuracy: 1.0000 - val_loss: 0.1840\n",
      "Epoch 78/100\n",
      "\u001b[1m1/1\u001b[0m \u001b[32m━━━━━━━━━━━━━━━━━━━━\u001b[0m\u001b[37m\u001b[0m \u001b[1m0s\u001b[0m 262ms/step - AUC: 1.0000 - accuracy: 1.0000 - loss: 0.2064 - val_AUC: 1.0000 - val_accuracy: 1.0000 - val_loss: 0.1802\n",
      "Epoch 79/100\n",
      "\u001b[1m1/1\u001b[0m \u001b[32m━━━━━━━━━━━━━━━━━━━━\u001b[0m\u001b[37m\u001b[0m \u001b[1m0s\u001b[0m 232ms/step - AUC: 1.0000 - accuracy: 1.0000 - loss: 0.2034 - val_AUC: 1.0000 - val_accuracy: 1.0000 - val_loss: 0.1764\n",
      "Epoch 80/100\n",
      "\u001b[1m1/1\u001b[0m \u001b[32m━━━━━━━━━━━━━━━━━━━━\u001b[0m\u001b[37m\u001b[0m \u001b[1m0s\u001b[0m 225ms/step - AUC: 1.0000 - accuracy: 1.0000 - loss: 0.2099 - val_AUC: 1.0000 - val_accuracy: 1.0000 - val_loss: 0.1726\n",
      "Epoch 81/100\n",
      "\u001b[1m1/1\u001b[0m \u001b[32m━━━━━━━━━━━━━━━━━━━━\u001b[0m\u001b[37m\u001b[0m \u001b[1m0s\u001b[0m 217ms/step - AUC: 1.0000 - accuracy: 1.0000 - loss: 0.1957 - val_AUC: 1.0000 - val_accuracy: 1.0000 - val_loss: 0.1689\n",
      "Epoch 82/100\n",
      "\u001b[1m1/1\u001b[0m \u001b[32m━━━━━━━━━━━━━━━━━━━━\u001b[0m\u001b[37m\u001b[0m \u001b[1m0s\u001b[0m 217ms/step - AUC: 1.0000 - accuracy: 1.0000 - loss: 0.1958 - val_AUC: 1.0000 - val_accuracy: 1.0000 - val_loss: 0.1653\n",
      "Epoch 83/100\n",
      "\u001b[1m1/1\u001b[0m \u001b[32m━━━━━━━━━━━━━━━━━━━━\u001b[0m\u001b[37m\u001b[0m \u001b[1m0s\u001b[0m 215ms/step - AUC: 1.0000 - accuracy: 1.0000 - loss: 0.1890 - val_AUC: 1.0000 - val_accuracy: 1.0000 - val_loss: 0.1617\n",
      "Epoch 84/100\n",
      "\u001b[1m1/1\u001b[0m \u001b[32m━━━━━━━━━━━━━━━━━━━━\u001b[0m\u001b[37m\u001b[0m \u001b[1m0s\u001b[0m 217ms/step - AUC: 1.0000 - accuracy: 1.0000 - loss: 0.1946 - val_AUC: 1.0000 - val_accuracy: 1.0000 - val_loss: 0.1581\n",
      "Epoch 85/100\n",
      "\u001b[1m1/1\u001b[0m \u001b[32m━━━━━━━━━━━━━━━━━━━━\u001b[0m\u001b[37m\u001b[0m \u001b[1m0s\u001b[0m 202ms/step - AUC: 1.0000 - accuracy: 1.0000 - loss: 0.1742 - val_AUC: 1.0000 - val_accuracy: 1.0000 - val_loss: 0.1547\n",
      "Epoch 86/100\n",
      "\u001b[1m1/1\u001b[0m \u001b[32m━━━━━━━━━━━━━━━━━━━━\u001b[0m\u001b[37m\u001b[0m \u001b[1m0s\u001b[0m 217ms/step - AUC: 1.0000 - accuracy: 1.0000 - loss: 0.1568 - val_AUC: 1.0000 - val_accuracy: 1.0000 - val_loss: 0.1513\n",
      "Epoch 87/100\n",
      "\u001b[1m1/1\u001b[0m \u001b[32m━━━━━━━━━━━━━━━━━━━━\u001b[0m\u001b[37m\u001b[0m \u001b[1m0s\u001b[0m 300ms/step - AUC: 1.0000 - accuracy: 1.0000 - loss: 0.1713 - val_AUC: 1.0000 - val_accuracy: 1.0000 - val_loss: 0.1479\n",
      "Epoch 88/100\n",
      "\u001b[1m1/1\u001b[0m \u001b[32m━━━━━━━━━━━━━━━━━━━━\u001b[0m\u001b[37m\u001b[0m \u001b[1m0s\u001b[0m 214ms/step - AUC: 1.0000 - accuracy: 1.0000 - loss: 0.1845 - val_AUC: 1.0000 - val_accuracy: 1.0000 - val_loss: 0.1447\n",
      "Epoch 89/100\n",
      "\u001b[1m1/1\u001b[0m \u001b[32m━━━━━━━━━━━━━━━━━━━━\u001b[0m\u001b[37m\u001b[0m \u001b[1m0s\u001b[0m 223ms/step - AUC: 1.0000 - accuracy: 1.0000 - loss: 0.1787 - val_AUC: 1.0000 - val_accuracy: 1.0000 - val_loss: 0.1415\n",
      "Epoch 90/100\n",
      "\u001b[1m1/1\u001b[0m \u001b[32m━━━━━━━━━━━━━━━━━━━━\u001b[0m\u001b[37m\u001b[0m \u001b[1m0s\u001b[0m 224ms/step - AUC: 1.0000 - accuracy: 1.0000 - loss: 0.1722 - val_AUC: 1.0000 - val_accuracy: 1.0000 - val_loss: 0.1383\n",
      "Epoch 91/100\n",
      "\u001b[1m1/1\u001b[0m \u001b[32m━━━━━━━━━━━━━━━━━━━━\u001b[0m\u001b[37m\u001b[0m \u001b[1m0s\u001b[0m 207ms/step - AUC: 1.0000 - accuracy: 1.0000 - loss: 0.1589 - val_AUC: 1.0000 - val_accuracy: 1.0000 - val_loss: 0.1352\n",
      "Epoch 92/100\n",
      "\u001b[1m1/1\u001b[0m \u001b[32m━━━━━━━━━━━━━━━━━━━━\u001b[0m\u001b[37m\u001b[0m \u001b[1m0s\u001b[0m 222ms/step - AUC: 1.0000 - accuracy: 1.0000 - loss: 0.1665 - val_AUC: 1.0000 - val_accuracy: 1.0000 - val_loss: 0.1322\n",
      "Epoch 93/100\n",
      "\u001b[1m1/1\u001b[0m \u001b[32m━━━━━━━━━━━━━━━━━━━━\u001b[0m\u001b[37m\u001b[0m \u001b[1m0s\u001b[0m 202ms/step - AUC: 1.0000 - accuracy: 1.0000 - loss: 0.1467 - val_AUC: 1.0000 - val_accuracy: 1.0000 - val_loss: 0.1292\n",
      "Epoch 94/100\n",
      "\u001b[1m1/1\u001b[0m \u001b[32m━━━━━━━━━━━━━━━━━━━━\u001b[0m\u001b[37m\u001b[0m \u001b[1m0s\u001b[0m 300ms/step - AUC: 1.0000 - accuracy: 1.0000 - loss: 0.1287 - val_AUC: 1.0000 - val_accuracy: 1.0000 - val_loss: 0.1263\n",
      "Epoch 95/100\n",
      "\u001b[1m1/1\u001b[0m \u001b[32m━━━━━━━━━━━━━━━━━━━━\u001b[0m\u001b[37m\u001b[0m \u001b[1m0s\u001b[0m 219ms/step - AUC: 1.0000 - accuracy: 1.0000 - loss: 0.1460 - val_AUC: 1.0000 - val_accuracy: 1.0000 - val_loss: 0.1234\n",
      "Epoch 96/100\n",
      "\u001b[1m1/1\u001b[0m \u001b[32m━━━━━━━━━━━━━━━━━━━━\u001b[0m\u001b[37m\u001b[0m \u001b[1m0s\u001b[0m 301ms/step - AUC: 1.0000 - accuracy: 1.0000 - loss: 0.1361 - val_AUC: 1.0000 - val_accuracy: 1.0000 - val_loss: 0.1206\n",
      "Epoch 97/100\n",
      "\u001b[1m1/1\u001b[0m \u001b[32m━━━━━━━━━━━━━━━━━━━━\u001b[0m\u001b[37m\u001b[0m \u001b[1m0s\u001b[0m 214ms/step - AUC: 1.0000 - accuracy: 1.0000 - loss: 0.1363 - val_AUC: 1.0000 - val_accuracy: 1.0000 - val_loss: 0.1179\n",
      "Epoch 98/100\n",
      "\u001b[1m1/1\u001b[0m \u001b[32m━━━━━━━━━━━━━━━━━━━━\u001b[0m\u001b[37m\u001b[0m \u001b[1m0s\u001b[0m 198ms/step - AUC: 1.0000 - accuracy: 1.0000 - loss: 0.1282 - val_AUC: 1.0000 - val_accuracy: 1.0000 - val_loss: 0.1152\n",
      "Epoch 99/100\n",
      "\u001b[1m1/1\u001b[0m \u001b[32m━━━━━━━━━━━━━━━━━━━━\u001b[0m\u001b[37m\u001b[0m \u001b[1m0s\u001b[0m 191ms/step - AUC: 1.0000 - accuracy: 1.0000 - loss: 0.1422 - val_AUC: 1.0000 - val_accuracy: 1.0000 - val_loss: 0.1126\n",
      "Epoch 100/100\n",
      "\u001b[1m1/1\u001b[0m \u001b[32m━━━━━━━━━━━━━━━━━━━━\u001b[0m\u001b[37m\u001b[0m \u001b[1m0s\u001b[0m 184ms/step - AUC: 1.0000 - accuracy: 1.0000 - loss: 0.1251 - val_AUC: 1.0000 - val_accuracy: 1.0000 - val_loss: 0.1101\n"
     ]
    }
   ],
   "source": [
    "es = keras.callbacks.EarlyStopping(\n",
    "    monitor=\"val_loss\", patience=10, restore_best_weights=True\n",
    ")\n",
    "\n",
    "history = model.fit(\n",
    "    X_train, y_train,\n",
    "    validation_data=(X_val, y_val),\n",
    "    epochs=100, batch_size=32,\n",
    "    callbacks=[es], verbose=1\n",
    ")"
   ]
  },
  {
   "cell_type": "code",
   "execution_count": 4,
   "metadata": {},
   "outputs": [
    {
     "name": "stdout",
     "output_type": "stream",
     "text": [
      "Test Acc: 1.0 AUC: 1.0\n",
      "\u001b[1m1/1\u001b[0m \u001b[32m━━━━━━━━━━━━━━━━━━━━\u001b[0m\u001b[37m\u001b[0m \u001b[1m0s\u001b[0m 140ms/step\n",
      "[[3 0]\n",
      " [0 2]]\n",
      "              precision    recall  f1-score   support\n",
      "\n",
      "           0      1.000     1.000     1.000         3\n",
      "           1      1.000     1.000     1.000         2\n",
      "\n",
      "    accuracy                          1.000         5\n",
      "   macro avg      1.000     1.000     1.000         5\n",
      "weighted avg      1.000     1.000     1.000         5\n",
      "\n"
     ]
    }
   ],
   "source": [
    "from sklearn.metrics import classification_report, confusion_matrix\n",
    "\n",
    "loss, acc, auc = model.evaluate(X_test, y_test, verbose=0)\n",
    "print(\"Test Acc:\", acc, \"AUC:\", auc)\n",
    "\n",
    "y_proba = model.predict(X_test).ravel()\n",
    "y_pred = (y_proba >= 0.5).astype(int)\n",
    "\n",
    "print(confusion_matrix(y_test, y_pred))\n",
    "print(classification_report(y_test, y_pred, digits=3))"
   ]
  },
  {
   "cell_type": "code",
   "execution_count": 5,
   "metadata": {},
   "outputs": [
    {
     "data": {
      "image/png": "[encoded data removed]",
      "text/plain": [
       "<Figure size 640x480 with 1 Axes>"
      ]
     },
     "metadata": {},
     "output_type": "display_data"
    }
   ],
   "source": [
    "import matplotlib.pyplot as plt\n",
    "\n",
    "plt.plot(history.history[\"loss\"], label=\"Train Loss\")\n",
    "plt.plot(history.history[\"val_loss\"], label=\"Val Loss\")\n",
    "plt.xlabel(\"Epoch\"); plt.ylabel(\"Loss\"); plt.legend()\n",
    "plt.title(\"Learning Curve\")\n",
    "plt.tight_layout(); plt.savefig(\"learning_curve.png\", dpi=120)"
   ]
  }
 ],
 "metadata": {
  "kernelspec": {
   "display_name": "venv",
   "language": "python",
   "name": "python3"
  },
  "language_info": {
   "codemirror_mode": {
    "name": "ipython",
    "version": 3
   },
   "file_extension": ".py",
   "mimetype": "text/x-python",
   "name": "python",
   "nbconvert_exporter": "python",
   "pygments_lexer": "ipython3",
   "version": "3.10.11"
  },
  "orig_nbformat": 4
 },
 "nbformat": 4,
 "nbformat_minor": 2
}
